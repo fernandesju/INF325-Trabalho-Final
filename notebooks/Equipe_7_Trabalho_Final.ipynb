{
 "cells": [
  {
   "cell_type": "markdown",
   "metadata": {},
   "source": [
    "# Trabalho Final - Equipe 7"
   ]
  },
  {
   "cell_type": "markdown",
   "metadata": {},
   "source": [
    "## Sobre a base de dados\n",
    "\n",
    "A base de dados do trabalho possui os seguintes datasets:\n",
    "\n",
    "**Collections:**\n",
    "* \n",
    "* \n",
    "* \n",
    "* \n",
    "* "
   ]
  },
  {
   "cell_type": "markdown",
   "metadata": {},
   "source": [
    "## Usando Python"
   ]
  },
  {
   "cell_type": "code",
   "execution_count": 11,
   "metadata": {},
   "outputs": [
    {
     "name": "stdout",
     "output_type": "stream",
     "text": [
      "Database(MongoClient(host=['localhost:27017'], document_class=dict, tz_aware=False, connect=True), 'equipe7')\n"
     ]
    }
   ],
   "source": [
    "from pymongo import MongoClient\n",
    "from pprintpp import pprint\n",
    "import warnings\n",
    "warnings.filterwarnings('ignore')\n",
    "mongoclient = MongoClient('localhost', 27017)\n",
    "db = mongoclient.equipe7\n",
    "print(db)"
   ]
  },
  {
   "cell_type": "markdown",
   "metadata": {},
   "source": [
    "### [Query 1] Produtos mais comprados"
   ]
  },
  {
   "cell_type": "code",
   "execution_count": 68,
   "metadata": {},
   "outputs": [
    {
     "name": "stdout",
     "output_type": "stream",
     "text": [
      "[\n",
      "    {\n",
      "        '_id': {\n",
      "            'idProduto': [ObjectId('613c9f65f4cffd38e6de0c3c')],\n",
      "            'nome': ['Gilette para gigantes'],\n",
      "        },\n",
      "        'count': 6,\n",
      "    },\n",
      "    {\n",
      "        '_id': {\n",
      "            'idProduto': [ObjectId('613d3b25f4cffd38e6de39c7')],\n",
      "            'nome': ['Gilette para anoes'],\n",
      "        },\n",
      "        'count': 3,\n",
      "    },\n",
      "    {\n",
      "        '_id': {\n",
      "            'idProduto': [ObjectId('613c9f65f4cffd38e6de0c3c')],\n",
      "            'nome': ['Gilette para anoes'],\n",
      "        },\n",
      "        'count': 2,\n",
      "    },\n",
      "    {\n",
      "        '_id': {\n",
      "            'idProduto': [ObjectId('613d3b7ef4cffd38e6de3a08')],\n",
      "            'nome': ['Gilette'],\n",
      "        },\n",
      "        'count': 2,\n",
      "    },\n",
      "]\n"
     ]
    }
   ],
   "source": [
    "result = db.historico.aggregate([\n",
    "    { \"$group\": \n",
    "     { \"_id\": { \"idProduto\": \"$produtos.idProduto\", \"nome\": \"$produtos.nomeProduto\" },\n",
    "       \"count\": { \"$sum\": 1 } } },\n",
    "    { \"$sort\": { \"count\": -1 } },\n",
    "])\n",
    "pprint(list(result))"
   ]
  },
  {
   "cell_type": "markdown",
   "metadata": {},
   "source": [
    "### [Query 2] Produtos mais comprados para uma determinada forma de pagamento"
   ]
  },
  {
   "cell_type": "code",
   "execution_count": 73,
   "metadata": {},
   "outputs": [
    {
     "name": "stdout",
     "output_type": "stream",
     "text": [
      "[\n",
      "    {\n",
      "        '_id': {\n",
      "            'idProduto': [ObjectId('613c9f65f4cffd38e6de0c3c')],\n",
      "            'nome': ['Gilette para gigantes'],\n",
      "            'payment': 'Cartao Credito',\n",
      "        },\n",
      "        'count': 6,\n",
      "    },\n",
      "    {\n",
      "        '_id': {\n",
      "            'idProduto': [ObjectId('613d3b25f4cffd38e6de39c7')],\n",
      "            'nome': ['Gilette para anoes'],\n",
      "            'payment': 'Cartao Credito',\n",
      "        },\n",
      "        'count': 3,\n",
      "    },\n",
      "    {\n",
      "        '_id': {\n",
      "            'idProduto': [ObjectId('613c9f65f4cffd38e6de0c3c')],\n",
      "            'nome': ['Gilette para anoes'],\n",
      "            'payment': 'Cartao Credito',\n",
      "        },\n",
      "        'count': 2,\n",
      "    },\n",
      "    {\n",
      "        '_id': {\n",
      "            'idProduto': [ObjectId('613d3b7ef4cffd38e6de3a08')],\n",
      "            'nome': ['Gilette'],\n",
      "            'payment': 'Cartao Credito',\n",
      "        },\n",
      "        'count': 2,\n",
      "    },\n",
      "]\n"
     ]
    }
   ],
   "source": [
    "result = db.historico.aggregate([\n",
    "    { \"$group\": \n",
    "     { \"_id\": { \"idProduto\": \"$produtos.idProduto\", \"nome\": \"$produtos.nomeProduto\",\n",
    "                 \"payment\": \"$pagamento.meio\"},\n",
    "       \"count\": { \"$sum\": 1 } } },\n",
    "    { \"$sort\": { \"count\": -1 } },\n",
    "])\n",
    "pprint(list(result))"
   ]
  },
  {
   "cell_type": "markdown",
   "metadata": {},
   "source": [
    "### [Query 3] Produtos comprados por um usuário"
   ]
  },
  {
   "cell_type": "code",
   "execution_count": 76,
   "metadata": {},
   "outputs": [
    {
     "name": "stdout",
     "output_type": "stream",
     "text": [
      "[\n",
      "    {\n",
      "        '_id': {\n",
      "            'idProduto': [ObjectId('613d3b7ef4cffd38e6de3a08')],\n",
      "            'idUsuario': ObjectId('613ca0b9f4cffd38e6de0d32'),\n",
      "            'nomeProduto': ['Gilette'],\n",
      "            'nomeUsuario': 'Edson Leonardo Ribeiro',\n",
      "        },\n",
      "    },\n",
      "    {\n",
      "        '_id': {\n",
      "            'idProduto': [ObjectId('613c9f65f4cffd38e6de0c3c')],\n",
      "            'idUsuario': ObjectId('613ca0b9f4cffd38e6de0d32'),\n",
      "            'nomeProduto': ['Gilette para gigantes'],\n",
      "            'nomeUsuario': 'Edson Leonardo Ribeiro',\n",
      "        },\n",
      "    },\n",
      "    {\n",
      "        '_id': {\n",
      "            'idProduto': [ObjectId('613d3b25f4cffd38e6de39c7')],\n",
      "            'idUsuario': ObjectId('613ca0b9f4cffd38e6de0d32'),\n",
      "            'nomeProduto': ['Gilette para anoes'],\n",
      "            'nomeUsuario': 'Edson Leonardo Ribeiro',\n",
      "        },\n",
      "    },\n",
      "    {\n",
      "        '_id': {\n",
      "            'idProduto': [ObjectId('613c9f65f4cffd38e6de0c3c')],\n",
      "            'idUsuario': ObjectId('613ca0b9f4cffd38e6de0d32'),\n",
      "            'nomeProduto': ['Gilette para anoes'],\n",
      "            'nomeUsuario': 'Edson Leonardo Ribeiro',\n",
      "        },\n",
      "    },\n",
      "]\n"
     ]
    }
   ],
   "source": [
    "result = db.historico.aggregate([\n",
    "    { \"$group\": \n",
    "     { \"_id\": { \"idProduto\": \"$produtos.idProduto\", \"nomeProduto\": \"$produtos.nomeProduto\",\n",
    "                \"idUsuario\": \"$usuarioId\", \"nomeUsuario\": \"$nome\"}\n",
    "     }\n",
    "    }\n",
    "])\n",
    "pprint(list(result))"
   ]
  },
  {
   "cell_type": "markdown",
   "metadata": {},
   "source": [
    "### [Query 4] Quantidade de pedidos mensal"
   ]
  },
  {
   "cell_type": "code",
   "execution_count": 80,
   "metadata": {},
   "outputs": [
    {
     "name": "stdout",
     "output_type": "stream",
     "text": [
      "[{'_id': '-', 'count': 13}]\n"
     ]
    }
   ],
   "source": [
    "result = db.historico.aggregate([\n",
    "    { \"$group\": \n",
    "     { \"_id\": \"$data\",\n",
    "       \"count\": { \"$sum\": 1 } } },\n",
    "    { \"$sort\": { \"count\": -1 } },\n",
    "])\n",
    "pprint(list(result))"
   ]
  },
  {
   "cell_type": "markdown",
   "metadata": {},
   "source": [
    "### [Query 5]  Volume de vendas por loja e valor faturado"
   ]
  },
  {
   "cell_type": "code",
   "execution_count": 83,
   "metadata": {},
   "outputs": [
    {
     "name": "stdout",
     "output_type": "stream",
     "text": [
      "[\n",
      "    {\n",
      "        '_id': {\n",
      "            'idLoja': [ObjectId('613c996bf4cffd38e6de0a30')],\n",
      "            'nome': ['Casas Bahia'],\n",
      "        },\n",
      "        'count': 13,\n",
      "        'valorFaturado': 6935.0,\n",
      "    },\n",
      "]\n"
     ]
    }
   ],
   "source": [
    "result = db.historico.aggregate([\n",
    "    { \"$group\": \n",
    "     { \"_id\": { \"idLoja\": \"$produtos.idLoja\", \"nome\": \"$produtos.nomeLoja\" },\n",
    "       \"count\": { \"$sum\": 1 },\n",
    "       \"valorFaturado\": { \"$sum\": \"$valorProdutos\" } } },\n",
    "    { \"$sort\": { \"count\": -1 } },\n",
    "])\n",
    "pprint(list(result))"
   ]
  }
 ],
 "metadata": {
  "kernelspec": {
   "display_name": "Python 3",
   "language": "python",
   "name": "python3"
  },
  "language_info": {
   "codemirror_mode": {
    "name": "ipython",
    "version": 3
   },
   "file_extension": ".py",
   "mimetype": "text/x-python",
   "name": "python",
   "nbconvert_exporter": "python",
   "pygments_lexer": "ipython3",
   "version": "3.7.10"
  }
 },
 "nbformat": 4,
 "nbformat_minor": 4
}
